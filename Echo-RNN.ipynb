{
 "cells": [
  {
   "cell_type": "markdown",
   "metadata": {},
   "source": [
    " #  Setup\n",
    " We will build a simple Echo-RNN that remembers the input data and then echoes <br/>\n",
    " it after a few time-steps. First let’s set some constants we’ll need, what they mean will become clear in a moment."
   ]
  },
  {
   "cell_type": "code",
   "execution_count": 36,
   "metadata": {
    "collapsed": true
   },
   "outputs": [],
   "source": [
    "import numpy as np\n",
    "import tensorflow as tf\n",
    "import matplotlib.pyplot as plt\n",
    "\n",
    "num_epochs = 100\n",
    "total_series_length = 50000\n",
    "truncated_backprop_length = 15 \n",
    "state_size = 3\n",
    "num_classes = 2\n",
    "echo_step = 3\n",
    "batch_size = 5\n",
    "num_batches = total_series_length//batch_size//truncated_backprop_length"
   ]
  },
  {
   "cell_type": "markdown",
   "metadata": {},
   "source": [
    "# Generate data\n",
    "Now generate the training data, the input is basically a random binary vector. The output will be the “echo” of the input, shifted echo_step steps to the right."
   ]
  },
  {
   "cell_type": "code",
   "execution_count": 3,
   "metadata": {
    "collapsed": true
   },
   "outputs": [],
   "source": [
    "def generateData():\n",
    "    x = np.array(np.random.choice(2,total_series_length,p=[0.5,0.5]))\n",
    "    y = np.roll(x,echo_step)\n",
    "    y[0:echo_step] = 0\n",
    "    \n",
    "    x = x.reshape((batch_size,-1))\n",
    "    y = y.reshape((batch_size,-1))\n",
    "    \n",
    "    return(x,y)"
   ]
  },
  {
   "cell_type": "code",
   "execution_count": 10,
   "metadata": {},
   "outputs": [],
   "source": [
    "batchX_placeholder = tf.placeholder(tf.float32,[batch_size,truncated_backprop_length])\n",
    "batchY_placeholder = tf.placeholder(tf.float32,[batch_size,truncated_backprop_length])\n",
    "init_state = tf.placeholder(tf.float32,[batch_size,state_size])"
   ]
  },
  {
   "cell_type": "code",
   "execution_count": 12,
   "metadata": {},
   "outputs": [
    {
     "name": "stdout",
     "output_type": "stream",
     "text": [
      "batchX_placeholder: Tensor(\"Placeholder:0\", shape=(5, 15), dtype=float32)\n",
      "batchY_placeholder: Tensor(\"Placeholder_1:0\", shape=(5, 15), dtype=float32)\n",
      "init_state: Tensor(\"Placeholder_2:0\", shape=(5, 3), dtype=float32)\n"
     ]
    }
   ],
   "source": [
    "print('batchX_placeholder:',batchX_placeholder)\n",
    "print('batchY_placeholder:',batchY_placeholder)\n",
    "print('init_state:',init_state)"
   ]
  },
  {
   "cell_type": "code",
   "execution_count": 18,
   "metadata": {
    "collapsed": true
   },
   "outputs": [],
   "source": [
    "W = tf.Variable(np.random.rand(state_size+1, state_size), dtype = tf.float32)\n",
    "b = tf.Variable(np.zeros((1,state_size)), dtype = tf.float32)\n",
    "W2 = tf.Variable(np.random.rand(state_size, num_classes), dtype = tf.float32)\n",
    "b2 = tf.Variable(np.zeros((1,num_classes)),dtype = tf.float32)"
   ]
  },
  {
   "cell_type": "code",
   "execution_count": 19,
   "metadata": {},
   "outputs": [
    {
     "name": "stdout",
     "output_type": "stream",
     "text": [
      "Tensor(\"Variable_2/read:0\", shape=(4, 3), dtype=float32)\n",
      "Tensor(\"Variable_3/read:0\", shape=(1, 3), dtype=float32)\n",
      "Tensor(\"Variable_4/read:0\", shape=(3, 2), dtype=float32)\n",
      "Tensor(\"Variable_5/read:0\", shape=(1, 2), dtype=float32)\n"
     ]
    }
   ],
   "source": [
    "print(W)\n",
    "print(b)\n",
    "print(W2)\n",
    "print(b2)"
   ]
  },
  {
   "cell_type": "markdown",
   "metadata": {},
   "source": [
    "# Unpacking"
   ]
  },
  {
   "cell_type": "code",
   "execution_count": 38,
   "metadata": {},
   "outputs": [],
   "source": [
    "# Unpack columns\n",
    "inputs_series = tf.unstack(batchX_placeholder, axis=1)\n",
    "labels_series = tf.unstack(batchY_placeholder, axis=1)"
   ]
  },
  {
   "cell_type": "code",
   "execution_count": null,
   "metadata": {},
   "outputs": [],
   "source": []
  },
  {
   "cell_type": "code",
   "execution_count": null,
   "metadata": {
    "collapsed": true
   },
   "outputs": [],
   "source": []
  },
  {
   "cell_type": "code",
   "execution_count": null,
   "metadata": {
    "collapsed": true
   },
   "outputs": [],
   "source": []
  },
  {
   "cell_type": "code",
   "execution_count": null,
   "metadata": {
    "collapsed": true
   },
   "outputs": [],
   "source": []
  }
 ],
 "metadata": {
  "kernelspec": {
   "display_name": "Python 3",
   "language": "python",
   "name": "python3"
  },
  "language_info": {
   "codemirror_mode": {
    "name": "ipython",
    "version": 3
   },
   "file_extension": ".py",
   "mimetype": "text/x-python",
   "name": "python",
   "nbconvert_exporter": "python",
   "pygments_lexer": "ipython3",
   "version": "3.6.0"
  }
 },
 "nbformat": 4,
 "nbformat_minor": 2
}
